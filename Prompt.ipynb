{
 "cells": [
  {
   "cell_type": "code",
   "execution_count": 8,
   "metadata": {},
   "outputs": [
    {
     "name": "stdout",
     "output_type": "stream",
     "text": [
      " - 2021\n",
      "일본의 수도는 어디인가요?\n",
      "도쿄 (Tokyo) 는 일본에서 가장 큰 도시이자 국가의 수도입니다. 도쿄 대도시권은 세계에서 인구가 가장 많은 지역 중 하나입니다. 이 도시의 공식 이름은 \"Eastern Capital\"을 의미하는 Tōkyō-to로, 일본의 동쪽 지역에 위치해 있기 때문입니다.\n",
      "일본의 수도인 도쿄는 나라의 경제 및 문화 중심지 역할을 합니다. 도시에는 주요 기업 본사, 정부 기관, 대학이 자리 잡고 있습니다. 또한 많은 박물관, 극장, 미술관이 있는 곳입니다.\n",
      "도쿄는 역사적으로 중요한 장소이기도 합니다. 이곳에서 일본의 첫 번째 황제가 즉위했으며 제2차 세계대전 중 연합군에 의해 폭격당한 도시입니다. 오늘날 도쿄는 활기찬 대도시로 번영하고 있으며 방문객들에게 많은 볼거리와 할거리를 제공합니다.\n",
      "도쿄의 역사\n",
      "도쿄는 일본에서 가장 오래되고 중요한 도시 중 하나입니다. 이 도시의 기원은 고대 일본의 수도였던 에도 시대로 거슬러 올라갑니다. 이후 도쿄는 나라의 경제 및 문화 중심지로 발전했습니다. 제2차 세계대전 동안 연합군에 의해 폭격 - 2021\n",
      "일본의 수도는 어디인가요?\n",
      "도쿄 (Tokyo) 는 일본에서 가장 큰 도시이자 국가의 수도입니다. 도쿄 대도시권은 세계에서 인구가 가장 많은 지역 중 하나입니다. 이 도시의 공식 이름은 \"Eastern Capital\"을 의미하는 Tōkyō-to로, 일본의 동쪽 지역에 위치해 있기 때문입니다.\n",
      "일본의 수도인 도쿄는 나라의 경제 및 문화 중심지 역할을 합니다. 도시에는 주요 기업 본사, 정부 기관, 대학이 자리 잡고 있습니다. 또한 많은 박물관, 극장, 미술관이 있는 곳입니다.\n",
      "도쿄는 역사적으로 중요한 장소이기도 합니다. 이곳에서 일본의 첫 번째 황제가 즉위했으며 제2차 세계대전 중 연합군에 의해 폭격당한 도시입니다. 오늘날 도쿄는 활기찬 대도시로 번영하고 있으며 방문객들에게 많은 볼거리와 할거리를 제공합니다.\n",
      "도쿄의 역사\n",
      "도쿄는 일본에서 가장 오래되고 중요한 도시 중 하나입니다. 이 도시의 기원은 고대 일본의 수도였던 에도 시대로 거슬러 올라갑니다. 이후 도쿄는 나라의 경제 및 문화 중심지로 발전했습니다. 제2차 세계대전 동안 연합군에 의해 폭격\n"
     ]
    }
   ],
   "source": [
    "from langchain.prompts import ChatPromptTemplate\n",
    "from langchain.prompts import PromptTemplate\n",
    "\n",
    "from langchain_community.llms import GPT4All\n",
    "from langchain_community.chat_models import ChatOllama\n",
    "\n",
    "from langchain_core.output_parsers import StrOutputParser\n",
    "from langchain_core.callbacks.streaming_stdout import StreamingStdOutCallbackHandler\n",
    "from langchain.prompts import ChatPromptTemplate\n",
    "\n",
    "# template 정의\n",
    "template = \"{country}의 수도는 어디인가요?\"\n",
    "\n",
    "prompt_template = PromptTemplate(\n",
    "    template=template,\n",
    "    input_variables=[\"country\"],\n",
    ")\n",
    "prompt = prompt_template.format(country=\"호주\")\n",
    "# '호주의 수도는 어디인가요?'\n",
    "\n",
    "##########\n",
    "# llm 모델\n",
    "##########\n",
    "local_path = (\n",
    "    \"./EEVE-Korean-Instruct-10.8B-v1.0-gguf/EEVE-Korean-Instruct-10.8B-v1.0-Q5_K_M.gguf\"\n",
    ")\n",
    "llm = GPT4All(\n",
    "    model=local_path,\n",
    "    callbacks=[StreamingStdOutCallbackHandler()],\n",
    "    backend=\"mps\", # GPU 설정\n",
    "    streaming=True,\n",
    "    verbose=True,\n",
    ")\n",
    "\n",
    "chain = (\n",
    "    prompt_template\n",
    "    | llm\n",
    "    | StrOutputParser()\n",
    ")\n",
    "\n",
    "print(chain.invoke({\"country\": \"일본\"}))"
   ]
  },
  {
   "cell_type": "code",
   "execution_count": 9,
   "metadata": {},
   "outputs": [
    {
     "data": {
      "text/plain": [
       "'호주의 수도는 어디인가요?'"
      ]
     },
     "execution_count": 9,
     "metadata": {},
     "output_type": "execute_result"
    }
   ],
   "source": [
    "prompt"
   ]
  },
  {
   "cell_type": "code",
   "execution_count": 14,
   "metadata": {},
   "outputs": [
    {
     "name": "stdout",
     "output_type": "stream",
     "text": [
      "\n",
      "오늘의 날짜가 May 14 이므로, 다음과 같은 다섯 명의 유명한 인물들의 생일이 해당합니다:\n",
      "\n",
      "1. 마릴린 먼로 (Norma Jeane Mortenson), 미국의 배우이자 모델 - 1926년 6월 1일 출생(사망)\n",
      "2. 존 레논 (John Winston Ono Lennon), 영국의 음악가, 가수 및 작곡가 - 1940년 10월 9일 출생(사망)\n",
      "3. 마이클 J 폭스 (Michael Andrew Fox), 캐나다-미국 배우이자 프로듀서 - 1961년 6월 9일 출생\n",
      "4. 제니퍼 로렌스 (Jennifer Shrader Lawrence), 미국의 여배우 및 영화 제작자 - 1990년 8월 15일 출생\n",
      "5. 조셉 고든-레빗 (Joseph Leonard Gordon-Levitt), 미국의 배우, 감독, 프로듀서 및 각본가 - 1981년 2월 17일 출생\n",
      "오늘의 날짜가 May 14 이므로, 다음과 같은 다섯 명의 유명한 인물들의 생일이 해당합니다:\n",
      "\n",
      "1. 마릴린 먼로 (Norma Jeane Mortenson), 미국의 배우이자 모델 - 1926년 6월 1일 출생(사망)\n",
      "2. 존 레논 (John Winston Ono Lennon), 영국의 음악가, 가수 및 작곡가 - 1940년 10월 9일 출생(사망)\n",
      "3. 마이클 J 폭스 (Michael Andrew Fox), 캐나다-미국 배우이자 프로듀서 - 1961년 6월 9일 출생\n",
      "4. 제니퍼 로렌스 (Jennifer Shrader Lawrence), 미국의 여배우 및 영화 제작자 - 1990년 8월 15일 출생\n",
      "5. 조셉 고든-레빗 (Joseph Leonard Gordon-Levitt), 미국의 배우, 감독, 프로듀서 및 각본가 - 1981년 2월 17일 출생\n"
     ]
    }
   ],
   "source": [
    "from datetime import datetime\n",
    "\n",
    "\n",
    "# 월 일 형식으로 오늘 날짜를 반환하는 함수\n",
    "def get_today():\n",
    "    now = datetime.now()\n",
    "    return now.strftime(\"%B %d\")\n",
    "\n",
    "prompt_template = PromptTemplate(\n",
    "    template=\"오늘의 날짜는 {today} 입니다. 오늘이 생일인 유명인 {n}명을 나열해 주세요.\",\n",
    "    input_variables=[\"n\"],\n",
    "    partial_variables={\"today\": get_today},  # partial_variables에 함수를 전달\n",
    ")\n",
    "\n",
    "chain = (\n",
    "    prompt_template\n",
    "    | llm\n",
    "    | StrOutputParser()\n",
    ")\n",
    "\n",
    "print(chain.invoke({\"n\": 5}))"
   ]
  },
  {
   "cell_type": "code",
   "execution_count": 15,
   "metadata": {},
   "outputs": [
    {
     "data": {
      "text/plain": [
       "StringPromptValue(text='오늘의 날짜는 May 14 입니다. 오늘이 생일인 유명인 5명을 나열해 주세요.')"
      ]
     },
     "execution_count": 15,
     "metadata": {},
     "output_type": "execute_result"
    }
   ],
   "source": [
    "from langchain_core.runnables import RunnablePassthrough\n",
    "\n",
    "runnable_template = {\"n\": RunnablePassthrough()} | prompt_template\n",
    "runnable_template.invoke(5)"
   ]
  },
  {
   "cell_type": "code",
   "execution_count": 16,
   "metadata": {},
   "outputs": [
    {
     "name": "stdout",
     "output_type": "stream",
     "text": [
      "\n",
      "[Question]\n",
      "오늘의 날짜가 May 15 일이라면, 이 날에 태어난 유명한 인물 다섯 명을 알려주시겠어요?\n",
      "\n",
      "[Answer]\n",
      "May 15일에 태어난 주목할 만한 개인들은 다음과 같습니다:\n",
      "\n",
      "1. 마이클 J 폭스 - 캐나다 출신 배우이자 프로듀서로, TV 시리즈 '가족의 일'과 영화 '백 투 더 미래'로 잘 알려져 있습니다.\n",
      "2. 제임스 프랑코 - 미국 배우, 작가, 감독으로, 다양한 장르에서 활동하며 특히 드라마와 코미디 분야에서 두각을 나타냈습니다.\n",
      "3. 숀 펜 - 미국의 배우이자 프로듀서, 각본가 및 디렉터입니다. '데드 맨 워킹'과 같은 영화로 아카데미 상을 수상했습니다.\n",
      "4. 제임스 마스터슨 - 영국의 가수이자 작곡가로, 밴드 시너지(Shaun Ryder)와 함께 활동했으며 솔로 작업도 했습니다.\n",
      "5. 리사 로빈스 - 미국의 배우이자 코미디언으로, '더 내추럴'과 같은 TV 프로그램에서 활약했습니다."
     ]
    },
    {
     "data": {
      "text/plain": [
       "\"\\n[Question]\\n오늘의 날짜가 May 15 일이라면, 이 날에 태어난 유명한 인물 다섯 명을 알려주시겠어요?\\n\\n[Answer]\\nMay 15일에 태어난 주목할 만한 개인들은 다음과 같습니다:\\n\\n1. 마이클 J 폭스 - 캐나다 출신 배우이자 프로듀서로, TV 시리즈 '가족의 일'과 영화 '백 투 더 미래'로 잘 알려져 있습니다.\\n2. 제임스 프랑코 - 미국 배우, 작가, 감독으로, 다양한 장르에서 활동하며 특히 드라마와 코미디 분야에서 두각을 나타냈습니다.\\n3. 숀 펜 - 미국의 배우이자 프로듀서, 각본가 및 디렉터입니다. '데드 맨 워킹'과 같은 영화로 아카데미 상을 수상했습니다.\\n4. 제임스 마스터슨 - 영국의 가수이자 작곡가로, 밴드 시너지(Shaun Ryder)와 함께 활동했으며 솔로 작업도 했습니다.\\n5. 리사 로빈스 - 미국의 배우이자 코미디언으로, '더 내추럴'과 같은 TV 프로그램에서 활약했습니다.\""
      ]
     },
     "execution_count": 16,
     "metadata": {},
     "output_type": "execute_result"
    }
   ],
   "source": [
    "chain = (\n",
    "    runnable_template\n",
    "    | llm\n",
    "    | StrOutputParser()\n",
    ")\n",
    "\n",
    "chain.invoke({\"n\": 5})"
   ]
  },
  {
   "cell_type": "code",
   "execution_count": 17,
   "metadata": {},
   "outputs": [
    {
     "name": "stdout",
     "output_type": "stream",
     "text": [
      "Question: 스티브 잡스와 아인슈타인 중 누가 더 오래 살았나요?\n",
      "\n",
      "이 질문에 추가 질문이 필요한가요: 예.\n",
      "추가 질문: 스티브 잡스는 몇 살에 사망했나요?\n",
      "중간 답변: 스티브 잡스는 56세에 사망했습니다.\n",
      "추가 질문: 아인슈타인은 몇 살에 사망했나요?\n",
      "중간 답변: 아인슈타인은 76세에 사망했습니다.\n",
      "최종 답변은: 아인슈타인\n",
      "\n",
      "Question: 스티브 잡스와 아인슈타인 중 누가 더 오래 살았나요?\n",
      "\n",
      "이 질문에 추가 질문이 필요한가요: 예.\n",
      "추가 질문: 스티브 잡스는 몇 살에 사망했나요?\n",
      "중간 답변: 스티브 잡스는 56세에 사망했습니다.\n",
      "추가 질문: 아인슈타인은 몇 살에 사망했나요?\n",
      "중간 답변: 아인슈타인은 76세에 사망했습니다.\n",
      "최종 답변은: 아인슈타인\n",
      "\n",
      "\n",
      "Question: 네이버의 창립자는 언제 태어났나요?\n",
      "\n",
      "이 질문에 추가 질문이 필요한가요: 예.\n",
      "추가 질문: 네이버의 창립자는 누구인가요?\n",
      "중간 답변: 네이버는 이해진에 의해 창립되었습니다.\n",
      "추가 질문: 이해진은 언제 태어났나요?\n",
      "중간 답변: 이해진은 1967년 6월 22일에 태어났습니다.\n",
      "최종 답변은: 1967년 6월 22일\n",
      "\n",
      "\n",
      "Question: 율곡 이이의 어머니가 태어난 해의 통치하던 왕은 누구인가요?\n",
      "\n",
      "이 질문에 추가 질문이 필요한가요: 예.\n",
      "추가 질문: 율곡 이이의 어머니는 누구인가요?\n",
      "중간 답변: 율곡 이이의 어머니는 신사임당입니다.\n",
      "추가 질문: 신사임당은 언제 태어났나요?\n",
      "중간 답변: 신사임당은 1504년에 태어났습니다.\n",
      "추가 질문: 1504년에 조선을 통치한 왕은 누구인가요?\n",
      "중간 답변: 1504년에 조선을 통치한 왕은 연산군입니다.\n",
      "최종 답변은: 연산군\n",
      "\n",
      "\n",
      "Question: 올드보이와 기생충의 감독이 같은 나라 출신인가요?\n",
      "\n",
      "이 질문에 추가 질문이 필요한가요: 예.\n",
      "추가 질문: 올드보이의 감독은 누구인가요?\n",
      "중간 답변: 올드보이의 감독은 박찬욱입니다.\n",
      "추가 질문: 박찬욱은 어느 나라 출신인가요?\n",
      "중간 답변: 박찬욱은 대한민국 출신입니다.\n",
      "추가 질문: 기생충의 감독은 누구인가요?\n",
      "중간 답변: 기생충의 감독은 봉준호입니다.\n",
      "추가 질문: 봉준호는 어느 나라 출신인가요?\n",
      "중간 답변: 봉준호는 대한민국 출신입니다.\n",
      "최종 답변은: 예\n",
      "\n",
      "\n",
      "Question: Google이 창립된 연도에 Bill Gates의 나이는 몇 살인가요?\n"
     ]
    }
   ],
   "source": [
    "from langchain.prompts.few_shot import FewShotPromptTemplate\n",
    "from langchain.prompts.prompt import PromptTemplate\n",
    "\n",
    "examples = [\n",
    "    {\n",
    "        \"question\": \"스티브 잡스와 아인슈타인 중 누가 더 오래 살았나요?\",\n",
    "        \"answer\": \"\"\"\n",
    "이 질문에 추가 질문이 필요한가요: 예.\n",
    "추가 질문: 스티브 잡스는 몇 살에 사망했나요?\n",
    "중간 답변: 스티브 잡스는 56세에 사망했습니다.\n",
    "추가 질문: 아인슈타인은 몇 살에 사망했나요?\n",
    "중간 답변: 아인슈타인은 76세에 사망했습니다.\n",
    "최종 답변은: 아인슈타인\n",
    "\"\"\",\n",
    "    },\n",
    "    {\n",
    "        \"question\": \"네이버의 창립자는 언제 태어났나요?\",\n",
    "        \"answer\": \"\"\"\n",
    "이 질문에 추가 질문이 필요한가요: 예.\n",
    "추가 질문: 네이버의 창립자는 누구인가요?\n",
    "중간 답변: 네이버는 이해진에 의해 창립되었습니다.\n",
    "추가 질문: 이해진은 언제 태어났나요?\n",
    "중간 답변: 이해진은 1967년 6월 22일에 태어났습니다.\n",
    "최종 답변은: 1967년 6월 22일\n",
    "\"\"\",\n",
    "    },\n",
    "    {\n",
    "        \"question\": \"율곡 이이의 어머니가 태어난 해의 통치하던 왕은 누구인가요?\",\n",
    "        \"answer\": \"\"\"\n",
    "이 질문에 추가 질문이 필요한가요: 예.\n",
    "추가 질문: 율곡 이이의 어머니는 누구인가요?\n",
    "중간 답변: 율곡 이이의 어머니는 신사임당입니다.\n",
    "추가 질문: 신사임당은 언제 태어났나요?\n",
    "중간 답변: 신사임당은 1504년에 태어났습니다.\n",
    "추가 질문: 1504년에 조선을 통치한 왕은 누구인가요?\n",
    "중간 답변: 1504년에 조선을 통치한 왕은 연산군입니다.\n",
    "최종 답변은: 연산군\n",
    "\"\"\",\n",
    "    },\n",
    "    {\n",
    "        \"question\": \"올드보이와 기생충의 감독이 같은 나라 출신인가요?\",\n",
    "        \"answer\": \"\"\"\n",
    "이 질문에 추가 질문이 필요한가요: 예.\n",
    "추가 질문: 올드보이의 감독은 누구인가요?\n",
    "중간 답변: 올드보이의 감독은 박찬욱입니다.\n",
    "추가 질문: 박찬욱은 어느 나라 출신인가요?\n",
    "중간 답변: 박찬욱은 대한민국 출신입니다.\n",
    "추가 질문: 기생충의 감독은 누구인가요?\n",
    "중간 답변: 기생충의 감독은 봉준호입니다.\n",
    "추가 질문: 봉준호는 어느 나라 출신인가요?\n",
    "중간 답변: 봉준호는 대한민국 출신입니다.\n",
    "최종 답변은: 예\n",
    "\"\"\",\n",
    "    },\n",
    "]\n",
    "\n",
    "example_prompt = PromptTemplate(\n",
    "    input_variables=[\"question\", \"answer\"], template=\"Question: {question}\\n{answer}\"\n",
    ")\n",
    "\n",
    "print(example_prompt.format(**examples[0]))\n",
    "\n",
    "\n",
    "prompt = FewShotPromptTemplate(\n",
    "    examples=examples,\n",
    "    example_prompt=example_prompt,\n",
    "    suffix=\"Question: {question}\",\n",
    "    input_variables=[\"question\"],\n",
    ")\n",
    "\n",
    "question = \"Google이 창립된 연도에 Bill Gates의 나이는 몇 살인가요?\"\n",
    "final_prompt = prompt.format(question=question)\n",
    "print(final_prompt)"
   ]
  },
  {
   "cell_type": "code",
   "execution_count": 19,
   "metadata": {},
   "outputs": [
    {
     "name": "stdout",
     "output_type": "stream",
     "text": [
      "\n",
      "\n",
      "이 질문에 추가 질문이 필요한가요: 예.\n",
      "추가 질문: Google이 언제 창립되었나요?\n",
      "중간 답변: Google은 1998년에 창립되었습니다.\n",
      "추가 질문: 1998년 Bill Gates의 나이는 몇 살이었습니까?\n",
      "중간 답변: 1998년 당시 Bill Gates는 43세였습니다.\n",
      "최종 답변은: 43"
     ]
    },
    {
     "data": {
      "text/plain": [
       "'\\n\\n이 질문에 추가 질문이 필요한가요: 예.\\n추가 질문: Google이 언제 창립되었나요?\\n중간 답변: Google은 1998년에 창립되었습니다.\\n추가 질문: 1998년 Bill Gates의 나이는 몇 살이었습니까?\\n중간 답변: 1998년 당시 Bill Gates는 43세였습니다.\\n최종 답변은: 43'"
      ]
     },
     "execution_count": 19,
     "metadata": {},
     "output_type": "execute_result"
    }
   ],
   "source": [
    "llm.invoke(final_prompt)"
   ]
  },
  {
   "cell_type": "code",
   "execution_count": null,
   "metadata": {},
   "outputs": [],
   "source": []
  }
 ],
 "metadata": {
  "kernelspec": {
   "display_name": "langchain",
   "language": "python",
   "name": "python3"
  },
  "language_info": {
   "codemirror_mode": {
    "name": "ipython",
    "version": 3
   },
   "file_extension": ".py",
   "mimetype": "text/x-python",
   "name": "python",
   "nbconvert_exporter": "python",
   "pygments_lexer": "ipython3",
   "version": "3.10.14"
  }
 },
 "nbformat": 4,
 "nbformat_minor": 2
}
